{
 "cells": [
  {
   "cell_type": "markdown",
   "id": "666d865a-399d-4c68-a7de-0dd2fa33434f",
   "metadata": {},
   "source": [
    "# Build Crime Model"
   ]
  },
  {
   "cell_type": "markdown",
   "id": "2f6feb5c-5248-4552-bfeb-df45242d5afb",
   "metadata": {},
   "source": [
    "### **classification model** to predict serious and non-serious crime types based on features like location, time, and victim demographics."
   ]
  },
  {
   "cell_type": "code",
   "execution_count": 1,
   "id": "9a162e6a-07fa-464a-bbf5-f5b6116e7c89",
   "metadata": {},
   "outputs": [],
   "source": [
    "import pandas as pd\n",
    "import numpy as np\n",
    "import seaborn as sns\n",
    "import matplotlib.pyplot as plt\n",
    "\n",
    "from sklearn.model_selection import train_test_split\n",
    "from sklearn.preprocessing import StandardScaler, LabelEncoder\n",
    "\n",
    "from sklearn.linear_model import LogisticRegression\n",
    "\n",
    "from sklearn.metrics import classification_report, accuracy_score\n",
    "\n",
    "from joblib import dump, load\n",
    "\n",
    "# Ensure all columns are displayed\n",
    "pd.set_option('display.max_columns', None)"
   ]
  },
  {
   "cell_type": "markdown",
   "id": "a573d7de-a89c-4755-9a2d-92bd5727ff57",
   "metadata": {},
   "source": [
    "# Load Data"
   ]
  },
  {
   "cell_type": "code",
   "execution_count": 2,
   "id": "26a828f3-911c-41f6-aeae-48e58feb5993",
   "metadata": {},
   "outputs": [],
   "source": [
    "dir_path = '../data/' # Change to your directory path\n",
    "file_name = 'cleaned_data.csv' # Change to your file name"
   ]
  },
  {
   "cell_type": "code",
   "execution_count": 3,
   "id": "0986fe5b-eb72-40c3-be0d-7c00ef5cb331",
   "metadata": {},
   "outputs": [],
   "source": [
    "# dir_path = '/path/to/data/directory/' # Change to your directory path\n",
    "# file_name = 'cleaned_data.csv' # Change to your file name"
   ]
  },
  {
   "cell_type": "code",
   "execution_count": 4,
   "id": "8f06bcf0-01eb-4451-a420-d46806f94c50",
   "metadata": {
    "scrolled": true
   },
   "outputs": [],
   "source": [
    "# read CSV in chunks\n",
    "def read_in_chunks(file_path, chunk_size=100_000): # Set chunk size\n",
    "    df_list = []\n",
    "    chunks = pd.read_csv(file_path, \n",
    "                         chunksize=chunk_size, \n",
    "                         dtype={'TIME OCC':str,  # Format 24-hour time as '%H%M' str\n",
    "                               'Premis Cd':str}) # Format Premis Cd values as str\n",
    "    for chunk in chunks:\n",
    "        df_list.append(chunk)  # Store chunks in list\n",
    "    return pd.concat(df_list, ignore_index=True)  # Combine chunks into full DataFrame"
   ]
  },
  {
   "cell_type": "code",
   "execution_count": 5,
   "id": "3768318e-f0c1-43ff-bee6-2676f3324634",
   "metadata": {
    "scrolled": true
   },
   "outputs": [],
   "source": [
    "# read a random sample\n",
    "def read_random_sample(file_path, sample_fraction=0.1): # Set sample size\n",
    "    full_df = read_in_chunks(file_path)  # Read full data in chunks\n",
    "    sampled_df = full_df.sample(frac=sample_fraction, random_state=42)  # Take random sample but make random sampling return same results every time\n",
    "    return sampled_df  "
   ]
  },
  {
   "cell_type": "code",
   "execution_count": 6,
   "id": "0d338a42-0829-4ec7-aab6-6d28d80ac407",
   "metadata": {
    "scrolled": true
   },
   "outputs": [],
   "source": [
    "# path to full data\n",
    "file_path = dir_path +  file_name"
   ]
  },
  {
   "cell_type": "code",
   "execution_count": 7,
   "id": "cb37b509-abac-4612-8547-f92aaf2ef49c",
   "metadata": {
    "scrolled": true
   },
   "outputs": [],
   "source": [
    "# Read full data in chunks\n",
    "full_df = read_in_chunks(file_path)"
   ]
  },
  {
   "cell_type": "code",
   "execution_count": 8,
   "id": "4e61196b-891d-47d7-8772-6930a9ced45d",
   "metadata": {
    "scrolled": true
   },
   "outputs": [
    {
     "data": {
      "text/plain": [
       "(1005104, 22)"
      ]
     },
     "execution_count": 8,
     "metadata": {},
     "output_type": "execute_result"
    }
   ],
   "source": [
    "full_df.shape"
   ]
  },
  {
   "cell_type": "code",
   "execution_count": 9,
   "id": "2986593b-5e71-4863-a860-4c6ad6b41fec",
   "metadata": {
    "scrolled": true
   },
   "outputs": [],
   "source": [
    "# Read random sample\n",
    "df = read_random_sample(file_path)"
   ]
  },
  {
   "cell_type": "code",
   "execution_count": 10,
   "id": "4a621fc3-36f4-44c2-955c-8bf32c06cd0c",
   "metadata": {},
   "outputs": [
    {
     "data": {
      "text/plain": [
       "(100510, 22)"
      ]
     },
     "execution_count": 10,
     "metadata": {},
     "output_type": "execute_result"
    }
   ],
   "source": [
    "df.shape"
   ]
  },
  {
   "cell_type": "code",
   "execution_count": 11,
   "id": "cad41b03-366a-4430-a0ee-6345791c3a37",
   "metadata": {
    "scrolled": true
   },
   "outputs": [
    {
     "data": {
      "text/html": [
       "<div>\n",
       "<style scoped>\n",
       "    .dataframe tbody tr th:only-of-type {\n",
       "        vertical-align: middle;\n",
       "    }\n",
       "\n",
       "    .dataframe tbody tr th {\n",
       "        vertical-align: top;\n",
       "    }\n",
       "\n",
       "    .dataframe thead th {\n",
       "        text-align: right;\n",
       "    }\n",
       "</style>\n",
       "<table border=\"1\" class=\"dataframe\">\n",
       "  <thead>\n",
       "    <tr style=\"text-align: right;\">\n",
       "      <th></th>\n",
       "      <th>DR_NO</th>\n",
       "      <th>Date Rptd</th>\n",
       "      <th>DATE OCC</th>\n",
       "      <th>TIME OCC</th>\n",
       "      <th>AREA</th>\n",
       "      <th>AREA NAME</th>\n",
       "      <th>Rpt Dist No</th>\n",
       "      <th>Part 1-2</th>\n",
       "      <th>Crm Cd</th>\n",
       "      <th>Crm Cd Desc</th>\n",
       "      <th>Mocodes</th>\n",
       "      <th>Vict Age</th>\n",
       "      <th>Vict Sex</th>\n",
       "      <th>Vict Descent</th>\n",
       "      <th>Premis Cd</th>\n",
       "      <th>Premis Desc</th>\n",
       "      <th>Status</th>\n",
       "      <th>Status Desc</th>\n",
       "      <th>Crm Cd 1</th>\n",
       "      <th>LOCATION</th>\n",
       "      <th>LAT</th>\n",
       "      <th>LON</th>\n",
       "    </tr>\n",
       "  </thead>\n",
       "  <tbody>\n",
       "    <tr>\n",
       "      <th>624116</th>\n",
       "      <td>221410372</td>\n",
       "      <td>2022-05-06</td>\n",
       "      <td>2022-05-03</td>\n",
       "      <td>04:05:00</td>\n",
       "      <td>14</td>\n",
       "      <td>Pacific</td>\n",
       "      <td>1414</td>\n",
       "      <td>1</td>\n",
       "      <td>522</td>\n",
       "      <td>VEHICLE, STOLEN - OTHER (MOTORIZED SCOOTERS, B...</td>\n",
       "      <td>0344</td>\n",
       "      <td>32</td>\n",
       "      <td>M</td>\n",
       "      <td>H</td>\n",
       "      <td>102.0</td>\n",
       "      <td>SIDEWALK</td>\n",
       "      <td>IC</td>\n",
       "      <td>Invest Cont</td>\n",
       "      <td>522.0</td>\n",
       "      <td>7TH</td>\n",
       "      <td>33.9996</td>\n",
       "      <td>-118.4690</td>\n",
       "    </tr>\n",
       "    <tr>\n",
       "      <th>983199</th>\n",
       "      <td>241410620</td>\n",
       "      <td>2024-06-19</td>\n",
       "      <td>2024-06-19</td>\n",
       "      <td>00:49:00</td>\n",
       "      <td>14</td>\n",
       "      <td>Pacific</td>\n",
       "      <td>1494</td>\n",
       "      <td>1</td>\n",
       "      <td>440</td>\n",
       "      <td>THEFT PLAIN - PETTY ($950 &amp; UNDER)</td>\n",
       "      <td>1822 0344</td>\n",
       "      <td>33</td>\n",
       "      <td>F</td>\n",
       "      <td>B</td>\n",
       "      <td>212.0</td>\n",
       "      <td>TRANSPORTATION FACILITY (AIRPORT)</td>\n",
       "      <td>IC</td>\n",
       "      <td>Invest Cont</td>\n",
       "      <td>440.0</td>\n",
       "      <td>200    WORLD                        WY</td>\n",
       "      <td>33.9455</td>\n",
       "      <td>-118.4003</td>\n",
       "    </tr>\n",
       "    <tr>\n",
       "      <th>430681</th>\n",
       "      <td>222107656</td>\n",
       "      <td>2022-04-04</td>\n",
       "      <td>2022-04-03</td>\n",
       "      <td>01:04:00</td>\n",
       "      <td>21</td>\n",
       "      <td>Topanga</td>\n",
       "      <td>2132</td>\n",
       "      <td>1</td>\n",
       "      <td>331</td>\n",
       "      <td>THEFT FROM MOTOR VEHICLE - GRAND ($950.01 AND ...</td>\n",
       "      <td>0385</td>\n",
       "      <td>45</td>\n",
       "      <td>F</td>\n",
       "      <td>W</td>\n",
       "      <td>501.0</td>\n",
       "      <td>SINGLE FAMILY DWELLING</td>\n",
       "      <td>IC</td>\n",
       "      <td>Invest Cont</td>\n",
       "      <td>331.0</td>\n",
       "      <td>7100    FOREST HILLS                 RD</td>\n",
       "      <td>34.1980</td>\n",
       "      <td>-118.6402</td>\n",
       "    </tr>\n",
       "    <tr>\n",
       "      <th>631116</th>\n",
       "      <td>220322533</td>\n",
       "      <td>2022-12-30</td>\n",
       "      <td>2022-12-26</td>\n",
       "      <td>13:30:00</td>\n",
       "      <td>3</td>\n",
       "      <td>Southwest</td>\n",
       "      <td>361</td>\n",
       "      <td>1</td>\n",
       "      <td>510</td>\n",
       "      <td>VEHICLE - STOLEN</td>\n",
       "      <td>X</td>\n",
       "      <td>0</td>\n",
       "      <td>X</td>\n",
       "      <td>X</td>\n",
       "      <td>101.0</td>\n",
       "      <td>STREET</td>\n",
       "      <td>IC</td>\n",
       "      <td>Invest Cont</td>\n",
       "      <td>510.0</td>\n",
       "      <td>4800    TACANA                       ST</td>\n",
       "      <td>34.0163</td>\n",
       "      <td>-118.3515</td>\n",
       "    </tr>\n",
       "    <tr>\n",
       "      <th>14072</th>\n",
       "      <td>200606894</td>\n",
       "      <td>2020-02-24</td>\n",
       "      <td>2020-02-24</td>\n",
       "      <td>03:55:00</td>\n",
       "      <td>6</td>\n",
       "      <td>Hollywood</td>\n",
       "      <td>637</td>\n",
       "      <td>2</td>\n",
       "      <td>623</td>\n",
       "      <td>BATTERY POLICE (SIMPLE)</td>\n",
       "      <td>0447 1212 2004 1822</td>\n",
       "      <td>25</td>\n",
       "      <td>F</td>\n",
       "      <td>H</td>\n",
       "      <td>203.0</td>\n",
       "      <td>OTHER BUSINESS</td>\n",
       "      <td>IC</td>\n",
       "      <td>Invest Cont</td>\n",
       "      <td>623.0</td>\n",
       "      <td>5900    HOLLYWOOD                    BL</td>\n",
       "      <td>34.1030</td>\n",
       "      <td>-118.3225</td>\n",
       "    </tr>\n",
       "  </tbody>\n",
       "</table>\n",
       "</div>"
      ],
      "text/plain": [
       "            DR_NO   Date Rptd    DATE OCC  TIME OCC  AREA  AREA NAME  \\\n",
       "624116  221410372  2022-05-06  2022-05-03  04:05:00    14    Pacific   \n",
       "983199  241410620  2024-06-19  2024-06-19  00:49:00    14    Pacific   \n",
       "430681  222107656  2022-04-04  2022-04-03  01:04:00    21    Topanga   \n",
       "631116  220322533  2022-12-30  2022-12-26  13:30:00     3  Southwest   \n",
       "14072   200606894  2020-02-24  2020-02-24  03:55:00     6  Hollywood   \n",
       "\n",
       "        Rpt Dist No  Part 1-2  Crm Cd  \\\n",
       "624116         1414         1     522   \n",
       "983199         1494         1     440   \n",
       "430681         2132         1     331   \n",
       "631116          361         1     510   \n",
       "14072           637         2     623   \n",
       "\n",
       "                                              Crm Cd Desc  \\\n",
       "624116  VEHICLE, STOLEN - OTHER (MOTORIZED SCOOTERS, B...   \n",
       "983199                 THEFT PLAIN - PETTY ($950 & UNDER)   \n",
       "430681  THEFT FROM MOTOR VEHICLE - GRAND ($950.01 AND ...   \n",
       "631116                                   VEHICLE - STOLEN   \n",
       "14072                             BATTERY POLICE (SIMPLE)   \n",
       "\n",
       "                    Mocodes  Vict Age Vict Sex Vict Descent Premis Cd  \\\n",
       "624116                 0344        32        M            H     102.0   \n",
       "983199            1822 0344        33        F            B     212.0   \n",
       "430681                 0385        45        F            W     501.0   \n",
       "631116                    X         0        X            X     101.0   \n",
       "14072   0447 1212 2004 1822        25        F            H     203.0   \n",
       "\n",
       "                              Premis Desc Status  Status Desc  Crm Cd 1  \\\n",
       "624116                           SIDEWALK     IC  Invest Cont     522.0   \n",
       "983199  TRANSPORTATION FACILITY (AIRPORT)     IC  Invest Cont     440.0   \n",
       "430681             SINGLE FAMILY DWELLING     IC  Invest Cont     331.0   \n",
       "631116                             STREET     IC  Invest Cont     510.0   \n",
       "14072                      OTHER BUSINESS     IC  Invest Cont     623.0   \n",
       "\n",
       "                                       LOCATION      LAT       LON  \n",
       "624116                                      7TH  33.9996 -118.4690  \n",
       "983199   200    WORLD                        WY  33.9455 -118.4003  \n",
       "430681  7100    FOREST HILLS                 RD  34.1980 -118.6402  \n",
       "631116  4800    TACANA                       ST  34.0163 -118.3515  \n",
       "14072   5900    HOLLYWOOD                    BL  34.1030 -118.3225  "
      ]
     },
     "execution_count": 11,
     "metadata": {},
     "output_type": "execute_result"
    }
   ],
   "source": [
    "df.head()"
   ]
  },
  {
   "cell_type": "markdown",
   "id": "e107b634-b5a6-46d3-9e34-a3fc15f45d4b",
   "metadata": {},
   "source": [
    "# Prepare Data"
   ]
  },
  {
   "cell_type": "code",
   "execution_count": 12,
   "id": "5e1cff3b-67f4-457d-a0c4-f74c67e18a11",
   "metadata": {},
   "outputs": [],
   "source": [
    "# Convert DATE OCC to datetime and extract features\n",
    "df[\"DATE OCC\"] = pd.to_datetime(df[\"DATE OCC\"], errors=\"coerce\")"
   ]
  },
  {
   "cell_type": "code",
   "execution_count": 13,
   "id": "0741f21f-249e-4ac3-a8bf-004aab52bcf4",
   "metadata": {},
   "outputs": [],
   "source": [
    "# Convert TIME OCC to numeric\n",
    "# df[\"TIME OCC\"] = pd.to_numeric(df[\"TIME OCC\"], errors=\"coerce\")\n",
    "df[\"TIME OCC\"] = pd.to_datetime(df[\"TIME OCC\"], format=\"%H:%M:%S\", errors=\"coerce\")"
   ]
  },
  {
   "cell_type": "code",
   "execution_count": 14,
   "id": "1662ca0b-5213-4855-ba3b-ea2181db3d80",
   "metadata": {},
   "outputs": [],
   "source": [
    "# Extract hour from 4-digit time format (e.g., 1530 → 15)\n",
    "# df[\"Hour\"] = df[\"TIME OCC\"] // 100\n",
    "df[\"Hour\"] = df[\"TIME OCC\"].dt.hour"
   ]
  },
  {
   "cell_type": "code",
   "execution_count": 15,
   "id": "8884f252-93f5-4f41-b323-e841d9ec177f",
   "metadata": {},
   "outputs": [],
   "source": [
    "df[\"Day\"] = df[\"DATE OCC\"].dt.dayofweek  # Monday = 0, Sunday = 6"
   ]
  },
  {
   "cell_type": "code",
   "execution_count": 16,
   "id": "5cad1791-80e5-4950-9778-1d4f282655c1",
   "metadata": {},
   "outputs": [],
   "source": [
    "df[\"Month\"] = df[\"DATE OCC\"].dt.month"
   ]
  },
  {
   "cell_type": "code",
   "execution_count": 17,
   "id": "8e52c84f-c234-4c18-8650-da583333ab80",
   "metadata": {},
   "outputs": [
    {
     "data": {
      "text/html": [
       "<div>\n",
       "<style scoped>\n",
       "    .dataframe tbody tr th:only-of-type {\n",
       "        vertical-align: middle;\n",
       "    }\n",
       "\n",
       "    .dataframe tbody tr th {\n",
       "        vertical-align: top;\n",
       "    }\n",
       "\n",
       "    .dataframe thead th {\n",
       "        text-align: right;\n",
       "    }\n",
       "</style>\n",
       "<table border=\"1\" class=\"dataframe\">\n",
       "  <thead>\n",
       "    <tr style=\"text-align: right;\">\n",
       "      <th></th>\n",
       "      <th>DR_NO</th>\n",
       "      <th>Date Rptd</th>\n",
       "      <th>DATE OCC</th>\n",
       "      <th>TIME OCC</th>\n",
       "      <th>AREA</th>\n",
       "      <th>AREA NAME</th>\n",
       "      <th>Rpt Dist No</th>\n",
       "      <th>Part 1-2</th>\n",
       "      <th>Crm Cd</th>\n",
       "      <th>Crm Cd Desc</th>\n",
       "      <th>Mocodes</th>\n",
       "      <th>Vict Age</th>\n",
       "      <th>Vict Sex</th>\n",
       "      <th>Vict Descent</th>\n",
       "      <th>Premis Cd</th>\n",
       "      <th>Premis Desc</th>\n",
       "      <th>Status</th>\n",
       "      <th>Status Desc</th>\n",
       "      <th>Crm Cd 1</th>\n",
       "      <th>LOCATION</th>\n",
       "      <th>LAT</th>\n",
       "      <th>LON</th>\n",
       "      <th>Hour</th>\n",
       "      <th>Day</th>\n",
       "      <th>Month</th>\n",
       "    </tr>\n",
       "  </thead>\n",
       "  <tbody>\n",
       "    <tr>\n",
       "      <th>624116</th>\n",
       "      <td>221410372</td>\n",
       "      <td>2022-05-06</td>\n",
       "      <td>2022-05-03</td>\n",
       "      <td>1900-01-01 04:05:00</td>\n",
       "      <td>14</td>\n",
       "      <td>Pacific</td>\n",
       "      <td>1414</td>\n",
       "      <td>1</td>\n",
       "      <td>522</td>\n",
       "      <td>VEHICLE, STOLEN - OTHER (MOTORIZED SCOOTERS, B...</td>\n",
       "      <td>0344</td>\n",
       "      <td>32</td>\n",
       "      <td>M</td>\n",
       "      <td>H</td>\n",
       "      <td>102.0</td>\n",
       "      <td>SIDEWALK</td>\n",
       "      <td>IC</td>\n",
       "      <td>Invest Cont</td>\n",
       "      <td>522.0</td>\n",
       "      <td>7TH</td>\n",
       "      <td>33.9996</td>\n",
       "      <td>-118.4690</td>\n",
       "      <td>4</td>\n",
       "      <td>1</td>\n",
       "      <td>5</td>\n",
       "    </tr>\n",
       "    <tr>\n",
       "      <th>983199</th>\n",
       "      <td>241410620</td>\n",
       "      <td>2024-06-19</td>\n",
       "      <td>2024-06-19</td>\n",
       "      <td>1900-01-01 00:49:00</td>\n",
       "      <td>14</td>\n",
       "      <td>Pacific</td>\n",
       "      <td>1494</td>\n",
       "      <td>1</td>\n",
       "      <td>440</td>\n",
       "      <td>THEFT PLAIN - PETTY ($950 &amp; UNDER)</td>\n",
       "      <td>1822 0344</td>\n",
       "      <td>33</td>\n",
       "      <td>F</td>\n",
       "      <td>B</td>\n",
       "      <td>212.0</td>\n",
       "      <td>TRANSPORTATION FACILITY (AIRPORT)</td>\n",
       "      <td>IC</td>\n",
       "      <td>Invest Cont</td>\n",
       "      <td>440.0</td>\n",
       "      <td>200    WORLD                        WY</td>\n",
       "      <td>33.9455</td>\n",
       "      <td>-118.4003</td>\n",
       "      <td>0</td>\n",
       "      <td>2</td>\n",
       "      <td>6</td>\n",
       "    </tr>\n",
       "    <tr>\n",
       "      <th>430681</th>\n",
       "      <td>222107656</td>\n",
       "      <td>2022-04-04</td>\n",
       "      <td>2022-04-03</td>\n",
       "      <td>1900-01-01 01:04:00</td>\n",
       "      <td>21</td>\n",
       "      <td>Topanga</td>\n",
       "      <td>2132</td>\n",
       "      <td>1</td>\n",
       "      <td>331</td>\n",
       "      <td>THEFT FROM MOTOR VEHICLE - GRAND ($950.01 AND ...</td>\n",
       "      <td>0385</td>\n",
       "      <td>45</td>\n",
       "      <td>F</td>\n",
       "      <td>W</td>\n",
       "      <td>501.0</td>\n",
       "      <td>SINGLE FAMILY DWELLING</td>\n",
       "      <td>IC</td>\n",
       "      <td>Invest Cont</td>\n",
       "      <td>331.0</td>\n",
       "      <td>7100    FOREST HILLS                 RD</td>\n",
       "      <td>34.1980</td>\n",
       "      <td>-118.6402</td>\n",
       "      <td>1</td>\n",
       "      <td>6</td>\n",
       "      <td>4</td>\n",
       "    </tr>\n",
       "    <tr>\n",
       "      <th>631116</th>\n",
       "      <td>220322533</td>\n",
       "      <td>2022-12-30</td>\n",
       "      <td>2022-12-26</td>\n",
       "      <td>1900-01-01 13:30:00</td>\n",
       "      <td>3</td>\n",
       "      <td>Southwest</td>\n",
       "      <td>361</td>\n",
       "      <td>1</td>\n",
       "      <td>510</td>\n",
       "      <td>VEHICLE - STOLEN</td>\n",
       "      <td>X</td>\n",
       "      <td>0</td>\n",
       "      <td>X</td>\n",
       "      <td>X</td>\n",
       "      <td>101.0</td>\n",
       "      <td>STREET</td>\n",
       "      <td>IC</td>\n",
       "      <td>Invest Cont</td>\n",
       "      <td>510.0</td>\n",
       "      <td>4800    TACANA                       ST</td>\n",
       "      <td>34.0163</td>\n",
       "      <td>-118.3515</td>\n",
       "      <td>13</td>\n",
       "      <td>0</td>\n",
       "      <td>12</td>\n",
       "    </tr>\n",
       "    <tr>\n",
       "      <th>14072</th>\n",
       "      <td>200606894</td>\n",
       "      <td>2020-02-24</td>\n",
       "      <td>2020-02-24</td>\n",
       "      <td>1900-01-01 03:55:00</td>\n",
       "      <td>6</td>\n",
       "      <td>Hollywood</td>\n",
       "      <td>637</td>\n",
       "      <td>2</td>\n",
       "      <td>623</td>\n",
       "      <td>BATTERY POLICE (SIMPLE)</td>\n",
       "      <td>0447 1212 2004 1822</td>\n",
       "      <td>25</td>\n",
       "      <td>F</td>\n",
       "      <td>H</td>\n",
       "      <td>203.0</td>\n",
       "      <td>OTHER BUSINESS</td>\n",
       "      <td>IC</td>\n",
       "      <td>Invest Cont</td>\n",
       "      <td>623.0</td>\n",
       "      <td>5900    HOLLYWOOD                    BL</td>\n",
       "      <td>34.1030</td>\n",
       "      <td>-118.3225</td>\n",
       "      <td>3</td>\n",
       "      <td>0</td>\n",
       "      <td>2</td>\n",
       "    </tr>\n",
       "  </tbody>\n",
       "</table>\n",
       "</div>"
      ],
      "text/plain": [
       "            DR_NO   Date Rptd   DATE OCC            TIME OCC  AREA  AREA NAME  \\\n",
       "624116  221410372  2022-05-06 2022-05-03 1900-01-01 04:05:00    14    Pacific   \n",
       "983199  241410620  2024-06-19 2024-06-19 1900-01-01 00:49:00    14    Pacific   \n",
       "430681  222107656  2022-04-04 2022-04-03 1900-01-01 01:04:00    21    Topanga   \n",
       "631116  220322533  2022-12-30 2022-12-26 1900-01-01 13:30:00     3  Southwest   \n",
       "14072   200606894  2020-02-24 2020-02-24 1900-01-01 03:55:00     6  Hollywood   \n",
       "\n",
       "        Rpt Dist No  Part 1-2  Crm Cd  \\\n",
       "624116         1414         1     522   \n",
       "983199         1494         1     440   \n",
       "430681         2132         1     331   \n",
       "631116          361         1     510   \n",
       "14072           637         2     623   \n",
       "\n",
       "                                              Crm Cd Desc  \\\n",
       "624116  VEHICLE, STOLEN - OTHER (MOTORIZED SCOOTERS, B...   \n",
       "983199                 THEFT PLAIN - PETTY ($950 & UNDER)   \n",
       "430681  THEFT FROM MOTOR VEHICLE - GRAND ($950.01 AND ...   \n",
       "631116                                   VEHICLE - STOLEN   \n",
       "14072                             BATTERY POLICE (SIMPLE)   \n",
       "\n",
       "                    Mocodes  Vict Age Vict Sex Vict Descent Premis Cd  \\\n",
       "624116                 0344        32        M            H     102.0   \n",
       "983199            1822 0344        33        F            B     212.0   \n",
       "430681                 0385        45        F            W     501.0   \n",
       "631116                    X         0        X            X     101.0   \n",
       "14072   0447 1212 2004 1822        25        F            H     203.0   \n",
       "\n",
       "                              Premis Desc Status  Status Desc  Crm Cd 1  \\\n",
       "624116                           SIDEWALK     IC  Invest Cont     522.0   \n",
       "983199  TRANSPORTATION FACILITY (AIRPORT)     IC  Invest Cont     440.0   \n",
       "430681             SINGLE FAMILY DWELLING     IC  Invest Cont     331.0   \n",
       "631116                             STREET     IC  Invest Cont     510.0   \n",
       "14072                      OTHER BUSINESS     IC  Invest Cont     623.0   \n",
       "\n",
       "                                       LOCATION      LAT       LON  Hour  Day  \\\n",
       "624116                                      7TH  33.9996 -118.4690     4    1   \n",
       "983199   200    WORLD                        WY  33.9455 -118.4003     0    2   \n",
       "430681  7100    FOREST HILLS                 RD  34.1980 -118.6402     1    6   \n",
       "631116  4800    TACANA                       ST  34.0163 -118.3515    13    0   \n",
       "14072   5900    HOLLYWOOD                    BL  34.1030 -118.3225     3    0   \n",
       "\n",
       "        Month  \n",
       "624116      5  \n",
       "983199      6  \n",
       "430681      4  \n",
       "631116     12  \n",
       "14072       2  "
      ]
     },
     "execution_count": 17,
     "metadata": {},
     "output_type": "execute_result"
    }
   ],
   "source": [
    "df.head()"
   ]
  },
  {
   "cell_type": "markdown",
   "id": "a30a0b94-d79c-4607-9ca5-dffde19aa729",
   "metadata": {},
   "source": [
    "# Select features"
   ]
  },
  {
   "cell_type": "code",
   "execution_count": 18,
   "id": "d74c276d-21a2-4bde-a91c-1b265e791f17",
   "metadata": {},
   "outputs": [],
   "source": [
    "# time, location and victim demographics\n",
    "features = [\"Hour\", \"Day\", \"Month\", \n",
    "            \"LAT\", \"LON\", \n",
    "            \"Vict Age\", \"Vict Sex\", \"Vict Descent\"]"
   ]
  },
  {
   "cell_type": "code",
   "execution_count": 19,
   "id": "37c7f982-406c-4438-b4e0-c16798afa5a7",
   "metadata": {},
   "outputs": [],
   "source": [
    "# df = df[features + [\"Crm Cd Desc\"]]\n",
    "# serious and non-serious crime types\n",
    "target = [\"Part 1-2\"]"
   ]
  },
  {
   "cell_type": "code",
   "execution_count": 20,
   "id": "0a031b47-913d-4b48-a027-41e1c73530b1",
   "metadata": {},
   "outputs": [],
   "source": [
    "df = df[features + target]"
   ]
  },
  {
   "cell_type": "code",
   "execution_count": 21,
   "id": "69e3af0f-ee18-47f4-8f9a-715be2806d62",
   "metadata": {},
   "outputs": [
    {
     "data": {
      "text/html": [
       "<div>\n",
       "<style scoped>\n",
       "    .dataframe tbody tr th:only-of-type {\n",
       "        vertical-align: middle;\n",
       "    }\n",
       "\n",
       "    .dataframe tbody tr th {\n",
       "        vertical-align: top;\n",
       "    }\n",
       "\n",
       "    .dataframe thead th {\n",
       "        text-align: right;\n",
       "    }\n",
       "</style>\n",
       "<table border=\"1\" class=\"dataframe\">\n",
       "  <thead>\n",
       "    <tr style=\"text-align: right;\">\n",
       "      <th></th>\n",
       "      <th>Hour</th>\n",
       "      <th>Day</th>\n",
       "      <th>Month</th>\n",
       "      <th>LAT</th>\n",
       "      <th>LON</th>\n",
       "      <th>Vict Age</th>\n",
       "      <th>Vict Sex</th>\n",
       "      <th>Vict Descent</th>\n",
       "      <th>Part 1-2</th>\n",
       "    </tr>\n",
       "  </thead>\n",
       "  <tbody>\n",
       "    <tr>\n",
       "      <th>624116</th>\n",
       "      <td>4</td>\n",
       "      <td>1</td>\n",
       "      <td>5</td>\n",
       "      <td>33.9996</td>\n",
       "      <td>-118.4690</td>\n",
       "      <td>32</td>\n",
       "      <td>M</td>\n",
       "      <td>H</td>\n",
       "      <td>1</td>\n",
       "    </tr>\n",
       "    <tr>\n",
       "      <th>983199</th>\n",
       "      <td>0</td>\n",
       "      <td>2</td>\n",
       "      <td>6</td>\n",
       "      <td>33.9455</td>\n",
       "      <td>-118.4003</td>\n",
       "      <td>33</td>\n",
       "      <td>F</td>\n",
       "      <td>B</td>\n",
       "      <td>1</td>\n",
       "    </tr>\n",
       "    <tr>\n",
       "      <th>430681</th>\n",
       "      <td>1</td>\n",
       "      <td>6</td>\n",
       "      <td>4</td>\n",
       "      <td>34.1980</td>\n",
       "      <td>-118.6402</td>\n",
       "      <td>45</td>\n",
       "      <td>F</td>\n",
       "      <td>W</td>\n",
       "      <td>1</td>\n",
       "    </tr>\n",
       "    <tr>\n",
       "      <th>631116</th>\n",
       "      <td>13</td>\n",
       "      <td>0</td>\n",
       "      <td>12</td>\n",
       "      <td>34.0163</td>\n",
       "      <td>-118.3515</td>\n",
       "      <td>0</td>\n",
       "      <td>X</td>\n",
       "      <td>X</td>\n",
       "      <td>1</td>\n",
       "    </tr>\n",
       "    <tr>\n",
       "      <th>14072</th>\n",
       "      <td>3</td>\n",
       "      <td>0</td>\n",
       "      <td>2</td>\n",
       "      <td>34.1030</td>\n",
       "      <td>-118.3225</td>\n",
       "      <td>25</td>\n",
       "      <td>F</td>\n",
       "      <td>H</td>\n",
       "      <td>2</td>\n",
       "    </tr>\n",
       "  </tbody>\n",
       "</table>\n",
       "</div>"
      ],
      "text/plain": [
       "        Hour  Day  Month      LAT       LON  Vict Age Vict Sex Vict Descent  \\\n",
       "624116     4    1      5  33.9996 -118.4690        32        M            H   \n",
       "983199     0    2      6  33.9455 -118.4003        33        F            B   \n",
       "430681     1    6      4  34.1980 -118.6402        45        F            W   \n",
       "631116    13    0     12  34.0163 -118.3515         0        X            X   \n",
       "14072      3    0      2  34.1030 -118.3225        25        F            H   \n",
       "\n",
       "        Part 1-2  \n",
       "624116         1  \n",
       "983199         1  \n",
       "430681         1  \n",
       "631116         1  \n",
       "14072          2  "
      ]
     },
     "execution_count": 21,
     "metadata": {},
     "output_type": "execute_result"
    }
   ],
   "source": [
    "df.head()"
   ]
  },
  {
   "cell_type": "code",
   "execution_count": 22,
   "id": "9b061591-e731-4c9f-a721-fc835c5b29c7",
   "metadata": {
    "scrolled": true
   },
   "outputs": [
    {
     "data": {
      "text/plain": [
       "(100510, 9)"
      ]
     },
     "execution_count": 22,
     "metadata": {},
     "output_type": "execute_result"
    }
   ],
   "source": [
    "df.shape"
   ]
  },
  {
   "cell_type": "code",
   "execution_count": 23,
   "id": "5acd2d81-1785-446d-b503-30a253857eb7",
   "metadata": {},
   "outputs": [
    {
     "name": "stdout",
     "output_type": "stream",
     "text": [
      "Hour            0\n",
      "Day             0\n",
      "Month           0\n",
      "LAT             0\n",
      "LON             0\n",
      "Vict Age        0\n",
      "Vict Sex        0\n",
      "Vict Descent    0\n",
      "Part 1-2        0\n",
      "dtype: int64\n"
     ]
    }
   ],
   "source": [
    "# Check missing values in each column\n",
    "print(df.isnull().sum())  "
   ]
  },
  {
   "cell_type": "markdown",
   "id": "2fe52c23-98cd-488b-99d9-d4bc27651102",
   "metadata": {},
   "source": [
    "### Encode categorical variables"
   ]
  },
  {
   "cell_type": "code",
   "execution_count": 24,
   "id": "70b9cb58-1499-4001-9b4a-80d5285dc5b4",
   "metadata": {},
   "outputs": [
    {
     "name": "stderr",
     "output_type": "stream",
     "text": [
      "/tmp/ipykernel_11064/952034751.py:3: FutureWarning: Downcasting behavior in `replace` is deprecated and will be removed in a future version. To retain the old behavior, explicitly call `result.infer_objects(copy=False)`. To opt-in to the future behavior, set `pd.set_option('future.no_silent_downcasting', True)`\n",
      "  df[\"Vict Sex\"] = df[\"Vict Sex\"].replace({\"M\": 0, \"F\": 1, \"X\": 2}).astype(int)\n"
     ]
    }
   ],
   "source": [
    "# Encode gender as 0 (Male), 1 (Female), 2 (Unkown)\n",
    "df = df[df[\"Vict Sex\"].isin([\"M\", \"F\", \"X\"])]\n",
    "df[\"Vict Sex\"] = df[\"Vict Sex\"].replace({\"M\": 0, \"F\": 1, \"X\": 2}).astype(int)"
   ]
  },
  {
   "cell_type": "code",
   "execution_count": 25,
   "id": "2cbbed7b-b145-4d66-b462-d88bc4e5f138",
   "metadata": {},
   "outputs": [],
   "source": [
    "# convert categorical values in the \"Vict Descent\" column (e.g., 'W', 'B', 'H', etc.) into numerical labels (e.g., 0, 1, 2, ...),\n",
    "df[\"Vict Descent\"] = LabelEncoder().fit_transform(df[\"Vict Descent\"])"
   ]
  },
  {
   "cell_type": "code",
   "execution_count": 26,
   "id": "e0385992-9b5a-40fe-9e2a-a469a909e0c0",
   "metadata": {},
   "outputs": [],
   "source": [
    "# classifies crimes as serious (Part 1) or non-serious (Part 2), into numerical values \n",
    "#(e.g., Part 1 → 0, Part 2 → 1)\n",
    "df[\"Part 1-2\"] = LabelEncoder().fit_transform(df[\"Part 1-2\"])  "
   ]
  },
  {
   "cell_type": "markdown",
   "id": "32ef8d52-01fd-4df9-bff2-dff84a75d890",
   "metadata": {},
   "source": [
    "# Split features and target"
   ]
  },
  {
   "cell_type": "code",
   "execution_count": 27,
   "id": "160bed79-09f8-436c-8f77-e5589f687b02",
   "metadata": {},
   "outputs": [],
   "source": [
    "X = df.drop(columns=[\"Part 1-2\"])\n",
    "y = df[\"Part 1-2\"]"
   ]
  },
  {
   "cell_type": "code",
   "execution_count": 28,
   "id": "8139f3bd-38ec-4f1b-85ac-bd4544c7c42c",
   "metadata": {},
   "outputs": [
    {
     "name": "stdout",
     "output_type": "stream",
     "text": [
      "(100499, 8) (100499,)\n"
     ]
    }
   ],
   "source": [
    "print(X.shape, y.shape)  "
   ]
  },
  {
   "cell_type": "markdown",
   "id": "b5be254c-e41d-4391-9685-6c32979d9573",
   "metadata": {},
   "source": [
    "# Train-test split "
   ]
  },
  {
   "cell_type": "code",
   "execution_count": 29,
   "id": "a1232110-b487-4118-a477-681535a67485",
   "metadata": {},
   "outputs": [],
   "source": [
    "# 80% training, 20% testing\n",
    "X_train, X_test, y_train, y_test = train_test_split(X, y, test_size=0.2, random_state=42)"
   ]
  },
  {
   "cell_type": "markdown",
   "id": "d72d3403-1a08-4958-9a2a-8a04ff72ed63",
   "metadata": {},
   "source": [
    "### Convert categorical columns into numerical format"
   ]
  },
  {
   "cell_type": "code",
   "execution_count": 30,
   "id": "09407ae6-6aad-4e1a-bfb2-c215c223718f",
   "metadata": {},
   "outputs": [],
   "source": [
    "# Use pd.get_dummies() for one-hot encoding:\n",
    "\n",
    "X_train = pd.get_dummies(X_train, drop_first=True)\n",
    "X_test = pd.get_dummies(X_test, drop_first=True)"
   ]
  },
  {
   "cell_type": "code",
   "execution_count": 31,
   "id": "07c47dd4-6c65-4bf1-8efa-d7bcc3c23940",
   "metadata": {},
   "outputs": [],
   "source": [
    "# Align columns in test set (in case some categories are missing)\n",
    "X_test = X_test.reindex(columns=X_train.columns, fill_value=0)"
   ]
  },
  {
   "cell_type": "code",
   "execution_count": 32,
   "id": "6d61b253-5d3e-4440-9d96-58eb78fafdd1",
   "metadata": {},
   "outputs": [
    {
     "name": "stdout",
     "output_type": "stream",
     "text": [
      "Hour              int32\n",
      "Day               int32\n",
      "Month             int32\n",
      "LAT             float64\n",
      "LON             float64\n",
      "Vict Age          int64\n",
      "Vict Sex          int64\n",
      "Vict Descent      int64\n",
      "dtype: object\n"
     ]
    }
   ],
   "source": [
    "print(X_train.dtypes)  "
   ]
  },
  {
   "cell_type": "markdown",
   "id": "23bb5838-1695-4b9c-9081-add794dbc377",
   "metadata": {},
   "source": [
    "# Train a LogisticRegression"
   ]
  },
  {
   "cell_type": "code",
   "execution_count": 33,
   "id": "20d6dbf2-287f-4ff2-a40e-f3e70e004e27",
   "metadata": {},
   "outputs": [],
   "source": [
    "# Standardize numerical features\n",
    "scaler = StandardScaler()\n",
    "X_train = scaler.fit_transform(X_train)\n",
    "X_test = scaler.transform(X_test)"
   ]
  },
  {
   "cell_type": "code",
   "execution_count": 34,
   "id": "2b4f0e7d-0ac9-4d04-8f2c-9b75764d6738",
   "metadata": {},
   "outputs": [],
   "source": [
    "# Train model\n",
    "model = LogisticRegression(max_iter=1000)"
   ]
  },
  {
   "cell_type": "code",
   "execution_count": 35,
   "id": "460a8019-5f29-4913-af68-dcac4ea79b73",
   "metadata": {},
   "outputs": [
    {
     "data": {
      "text/html": [
       "<style>#sk-container-id-1 {\n",
       "  /* Definition of color scheme common for light and dark mode */\n",
       "  --sklearn-color-text: #000;\n",
       "  --sklearn-color-text-muted: #666;\n",
       "  --sklearn-color-line: gray;\n",
       "  /* Definition of color scheme for unfitted estimators */\n",
       "  --sklearn-color-unfitted-level-0: #fff5e6;\n",
       "  --sklearn-color-unfitted-level-1: #f6e4d2;\n",
       "  --sklearn-color-unfitted-level-2: #ffe0b3;\n",
       "  --sklearn-color-unfitted-level-3: chocolate;\n",
       "  /* Definition of color scheme for fitted estimators */\n",
       "  --sklearn-color-fitted-level-0: #f0f8ff;\n",
       "  --sklearn-color-fitted-level-1: #d4ebff;\n",
       "  --sklearn-color-fitted-level-2: #b3dbfd;\n",
       "  --sklearn-color-fitted-level-3: cornflowerblue;\n",
       "\n",
       "  /* Specific color for light theme */\n",
       "  --sklearn-color-text-on-default-background: var(--sg-text-color, var(--theme-code-foreground, var(--jp-content-font-color1, black)));\n",
       "  --sklearn-color-background: var(--sg-background-color, var(--theme-background, var(--jp-layout-color0, white)));\n",
       "  --sklearn-color-border-box: var(--sg-text-color, var(--theme-code-foreground, var(--jp-content-font-color1, black)));\n",
       "  --sklearn-color-icon: #696969;\n",
       "\n",
       "  @media (prefers-color-scheme: dark) {\n",
       "    /* Redefinition of color scheme for dark theme */\n",
       "    --sklearn-color-text-on-default-background: var(--sg-text-color, var(--theme-code-foreground, var(--jp-content-font-color1, white)));\n",
       "    --sklearn-color-background: var(--sg-background-color, var(--theme-background, var(--jp-layout-color0, #111)));\n",
       "    --sklearn-color-border-box: var(--sg-text-color, var(--theme-code-foreground, var(--jp-content-font-color1, white)));\n",
       "    --sklearn-color-icon: #878787;\n",
       "  }\n",
       "}\n",
       "\n",
       "#sk-container-id-1 {\n",
       "  color: var(--sklearn-color-text);\n",
       "}\n",
       "\n",
       "#sk-container-id-1 pre {\n",
       "  padding: 0;\n",
       "}\n",
       "\n",
       "#sk-container-id-1 input.sk-hidden--visually {\n",
       "  border: 0;\n",
       "  clip: rect(1px 1px 1px 1px);\n",
       "  clip: rect(1px, 1px, 1px, 1px);\n",
       "  height: 1px;\n",
       "  margin: -1px;\n",
       "  overflow: hidden;\n",
       "  padding: 0;\n",
       "  position: absolute;\n",
       "  width: 1px;\n",
       "}\n",
       "\n",
       "#sk-container-id-1 div.sk-dashed-wrapped {\n",
       "  border: 1px dashed var(--sklearn-color-line);\n",
       "  margin: 0 0.4em 0.5em 0.4em;\n",
       "  box-sizing: border-box;\n",
       "  padding-bottom: 0.4em;\n",
       "  background-color: var(--sklearn-color-background);\n",
       "}\n",
       "\n",
       "#sk-container-id-1 div.sk-container {\n",
       "  /* jupyter's `normalize.less` sets `[hidden] { display: none; }`\n",
       "     but bootstrap.min.css set `[hidden] { display: none !important; }`\n",
       "     so we also need the `!important` here to be able to override the\n",
       "     default hidden behavior on the sphinx rendered scikit-learn.org.\n",
       "     See: https://github.com/scikit-learn/scikit-learn/issues/21755 */\n",
       "  display: inline-block !important;\n",
       "  position: relative;\n",
       "}\n",
       "\n",
       "#sk-container-id-1 div.sk-text-repr-fallback {\n",
       "  display: none;\n",
       "}\n",
       "\n",
       "div.sk-parallel-item,\n",
       "div.sk-serial,\n",
       "div.sk-item {\n",
       "  /* draw centered vertical line to link estimators */\n",
       "  background-image: linear-gradient(var(--sklearn-color-text-on-default-background), var(--sklearn-color-text-on-default-background));\n",
       "  background-size: 2px 100%;\n",
       "  background-repeat: no-repeat;\n",
       "  background-position: center center;\n",
       "}\n",
       "\n",
       "/* Parallel-specific style estimator block */\n",
       "\n",
       "#sk-container-id-1 div.sk-parallel-item::after {\n",
       "  content: \"\";\n",
       "  width: 100%;\n",
       "  border-bottom: 2px solid var(--sklearn-color-text-on-default-background);\n",
       "  flex-grow: 1;\n",
       "}\n",
       "\n",
       "#sk-container-id-1 div.sk-parallel {\n",
       "  display: flex;\n",
       "  align-items: stretch;\n",
       "  justify-content: center;\n",
       "  background-color: var(--sklearn-color-background);\n",
       "  position: relative;\n",
       "}\n",
       "\n",
       "#sk-container-id-1 div.sk-parallel-item {\n",
       "  display: flex;\n",
       "  flex-direction: column;\n",
       "}\n",
       "\n",
       "#sk-container-id-1 div.sk-parallel-item:first-child::after {\n",
       "  align-self: flex-end;\n",
       "  width: 50%;\n",
       "}\n",
       "\n",
       "#sk-container-id-1 div.sk-parallel-item:last-child::after {\n",
       "  align-self: flex-start;\n",
       "  width: 50%;\n",
       "}\n",
       "\n",
       "#sk-container-id-1 div.sk-parallel-item:only-child::after {\n",
       "  width: 0;\n",
       "}\n",
       "\n",
       "/* Serial-specific style estimator block */\n",
       "\n",
       "#sk-container-id-1 div.sk-serial {\n",
       "  display: flex;\n",
       "  flex-direction: column;\n",
       "  align-items: center;\n",
       "  background-color: var(--sklearn-color-background);\n",
       "  padding-right: 1em;\n",
       "  padding-left: 1em;\n",
       "}\n",
       "\n",
       "\n",
       "/* Toggleable style: style used for estimator/Pipeline/ColumnTransformer box that is\n",
       "clickable and can be expanded/collapsed.\n",
       "- Pipeline and ColumnTransformer use this feature and define the default style\n",
       "- Estimators will overwrite some part of the style using the `sk-estimator` class\n",
       "*/\n",
       "\n",
       "/* Pipeline and ColumnTransformer style (default) */\n",
       "\n",
       "#sk-container-id-1 div.sk-toggleable {\n",
       "  /* Default theme specific background. It is overwritten whether we have a\n",
       "  specific estimator or a Pipeline/ColumnTransformer */\n",
       "  background-color: var(--sklearn-color-background);\n",
       "}\n",
       "\n",
       "/* Toggleable label */\n",
       "#sk-container-id-1 label.sk-toggleable__label {\n",
       "  cursor: pointer;\n",
       "  display: flex;\n",
       "  width: 100%;\n",
       "  margin-bottom: 0;\n",
       "  padding: 0.5em;\n",
       "  box-sizing: border-box;\n",
       "  text-align: center;\n",
       "  align-items: start;\n",
       "  justify-content: space-between;\n",
       "  gap: 0.5em;\n",
       "}\n",
       "\n",
       "#sk-container-id-1 label.sk-toggleable__label .caption {\n",
       "  font-size: 0.6rem;\n",
       "  font-weight: lighter;\n",
       "  color: var(--sklearn-color-text-muted);\n",
       "}\n",
       "\n",
       "#sk-container-id-1 label.sk-toggleable__label-arrow:before {\n",
       "  /* Arrow on the left of the label */\n",
       "  content: \"▸\";\n",
       "  float: left;\n",
       "  margin-right: 0.25em;\n",
       "  color: var(--sklearn-color-icon);\n",
       "}\n",
       "\n",
       "#sk-container-id-1 label.sk-toggleable__label-arrow:hover:before {\n",
       "  color: var(--sklearn-color-text);\n",
       "}\n",
       "\n",
       "/* Toggleable content - dropdown */\n",
       "\n",
       "#sk-container-id-1 div.sk-toggleable__content {\n",
       "  max-height: 0;\n",
       "  max-width: 0;\n",
       "  overflow: hidden;\n",
       "  text-align: left;\n",
       "  /* unfitted */\n",
       "  background-color: var(--sklearn-color-unfitted-level-0);\n",
       "}\n",
       "\n",
       "#sk-container-id-1 div.sk-toggleable__content.fitted {\n",
       "  /* fitted */\n",
       "  background-color: var(--sklearn-color-fitted-level-0);\n",
       "}\n",
       "\n",
       "#sk-container-id-1 div.sk-toggleable__content pre {\n",
       "  margin: 0.2em;\n",
       "  border-radius: 0.25em;\n",
       "  color: var(--sklearn-color-text);\n",
       "  /* unfitted */\n",
       "  background-color: var(--sklearn-color-unfitted-level-0);\n",
       "}\n",
       "\n",
       "#sk-container-id-1 div.sk-toggleable__content.fitted pre {\n",
       "  /* unfitted */\n",
       "  background-color: var(--sklearn-color-fitted-level-0);\n",
       "}\n",
       "\n",
       "#sk-container-id-1 input.sk-toggleable__control:checked~div.sk-toggleable__content {\n",
       "  /* Expand drop-down */\n",
       "  max-height: 200px;\n",
       "  max-width: 100%;\n",
       "  overflow: auto;\n",
       "}\n",
       "\n",
       "#sk-container-id-1 input.sk-toggleable__control:checked~label.sk-toggleable__label-arrow:before {\n",
       "  content: \"▾\";\n",
       "}\n",
       "\n",
       "/* Pipeline/ColumnTransformer-specific style */\n",
       "\n",
       "#sk-container-id-1 div.sk-label input.sk-toggleable__control:checked~label.sk-toggleable__label {\n",
       "  color: var(--sklearn-color-text);\n",
       "  background-color: var(--sklearn-color-unfitted-level-2);\n",
       "}\n",
       "\n",
       "#sk-container-id-1 div.sk-label.fitted input.sk-toggleable__control:checked~label.sk-toggleable__label {\n",
       "  background-color: var(--sklearn-color-fitted-level-2);\n",
       "}\n",
       "\n",
       "/* Estimator-specific style */\n",
       "\n",
       "/* Colorize estimator box */\n",
       "#sk-container-id-1 div.sk-estimator input.sk-toggleable__control:checked~label.sk-toggleable__label {\n",
       "  /* unfitted */\n",
       "  background-color: var(--sklearn-color-unfitted-level-2);\n",
       "}\n",
       "\n",
       "#sk-container-id-1 div.sk-estimator.fitted input.sk-toggleable__control:checked~label.sk-toggleable__label {\n",
       "  /* fitted */\n",
       "  background-color: var(--sklearn-color-fitted-level-2);\n",
       "}\n",
       "\n",
       "#sk-container-id-1 div.sk-label label.sk-toggleable__label,\n",
       "#sk-container-id-1 div.sk-label label {\n",
       "  /* The background is the default theme color */\n",
       "  color: var(--sklearn-color-text-on-default-background);\n",
       "}\n",
       "\n",
       "/* On hover, darken the color of the background */\n",
       "#sk-container-id-1 div.sk-label:hover label.sk-toggleable__label {\n",
       "  color: var(--sklearn-color-text);\n",
       "  background-color: var(--sklearn-color-unfitted-level-2);\n",
       "}\n",
       "\n",
       "/* Label box, darken color on hover, fitted */\n",
       "#sk-container-id-1 div.sk-label.fitted:hover label.sk-toggleable__label.fitted {\n",
       "  color: var(--sklearn-color-text);\n",
       "  background-color: var(--sklearn-color-fitted-level-2);\n",
       "}\n",
       "\n",
       "/* Estimator label */\n",
       "\n",
       "#sk-container-id-1 div.sk-label label {\n",
       "  font-family: monospace;\n",
       "  font-weight: bold;\n",
       "  display: inline-block;\n",
       "  line-height: 1.2em;\n",
       "}\n",
       "\n",
       "#sk-container-id-1 div.sk-label-container {\n",
       "  text-align: center;\n",
       "}\n",
       "\n",
       "/* Estimator-specific */\n",
       "#sk-container-id-1 div.sk-estimator {\n",
       "  font-family: monospace;\n",
       "  border: 1px dotted var(--sklearn-color-border-box);\n",
       "  border-radius: 0.25em;\n",
       "  box-sizing: border-box;\n",
       "  margin-bottom: 0.5em;\n",
       "  /* unfitted */\n",
       "  background-color: var(--sklearn-color-unfitted-level-0);\n",
       "}\n",
       "\n",
       "#sk-container-id-1 div.sk-estimator.fitted {\n",
       "  /* fitted */\n",
       "  background-color: var(--sklearn-color-fitted-level-0);\n",
       "}\n",
       "\n",
       "/* on hover */\n",
       "#sk-container-id-1 div.sk-estimator:hover {\n",
       "  /* unfitted */\n",
       "  background-color: var(--sklearn-color-unfitted-level-2);\n",
       "}\n",
       "\n",
       "#sk-container-id-1 div.sk-estimator.fitted:hover {\n",
       "  /* fitted */\n",
       "  background-color: var(--sklearn-color-fitted-level-2);\n",
       "}\n",
       "\n",
       "/* Specification for estimator info (e.g. \"i\" and \"?\") */\n",
       "\n",
       "/* Common style for \"i\" and \"?\" */\n",
       "\n",
       ".sk-estimator-doc-link,\n",
       "a:link.sk-estimator-doc-link,\n",
       "a:visited.sk-estimator-doc-link {\n",
       "  float: right;\n",
       "  font-size: smaller;\n",
       "  line-height: 1em;\n",
       "  font-family: monospace;\n",
       "  background-color: var(--sklearn-color-background);\n",
       "  border-radius: 1em;\n",
       "  height: 1em;\n",
       "  width: 1em;\n",
       "  text-decoration: none !important;\n",
       "  margin-left: 0.5em;\n",
       "  text-align: center;\n",
       "  /* unfitted */\n",
       "  border: var(--sklearn-color-unfitted-level-1) 1pt solid;\n",
       "  color: var(--sklearn-color-unfitted-level-1);\n",
       "}\n",
       "\n",
       ".sk-estimator-doc-link.fitted,\n",
       "a:link.sk-estimator-doc-link.fitted,\n",
       "a:visited.sk-estimator-doc-link.fitted {\n",
       "  /* fitted */\n",
       "  border: var(--sklearn-color-fitted-level-1) 1pt solid;\n",
       "  color: var(--sklearn-color-fitted-level-1);\n",
       "}\n",
       "\n",
       "/* On hover */\n",
       "div.sk-estimator:hover .sk-estimator-doc-link:hover,\n",
       ".sk-estimator-doc-link:hover,\n",
       "div.sk-label-container:hover .sk-estimator-doc-link:hover,\n",
       ".sk-estimator-doc-link:hover {\n",
       "  /* unfitted */\n",
       "  background-color: var(--sklearn-color-unfitted-level-3);\n",
       "  color: var(--sklearn-color-background);\n",
       "  text-decoration: none;\n",
       "}\n",
       "\n",
       "div.sk-estimator.fitted:hover .sk-estimator-doc-link.fitted:hover,\n",
       ".sk-estimator-doc-link.fitted:hover,\n",
       "div.sk-label-container:hover .sk-estimator-doc-link.fitted:hover,\n",
       ".sk-estimator-doc-link.fitted:hover {\n",
       "  /* fitted */\n",
       "  background-color: var(--sklearn-color-fitted-level-3);\n",
       "  color: var(--sklearn-color-background);\n",
       "  text-decoration: none;\n",
       "}\n",
       "\n",
       "/* Span, style for the box shown on hovering the info icon */\n",
       ".sk-estimator-doc-link span {\n",
       "  display: none;\n",
       "  z-index: 9999;\n",
       "  position: relative;\n",
       "  font-weight: normal;\n",
       "  right: .2ex;\n",
       "  padding: .5ex;\n",
       "  margin: .5ex;\n",
       "  width: min-content;\n",
       "  min-width: 20ex;\n",
       "  max-width: 50ex;\n",
       "  color: var(--sklearn-color-text);\n",
       "  box-shadow: 2pt 2pt 4pt #999;\n",
       "  /* unfitted */\n",
       "  background: var(--sklearn-color-unfitted-level-0);\n",
       "  border: .5pt solid var(--sklearn-color-unfitted-level-3);\n",
       "}\n",
       "\n",
       ".sk-estimator-doc-link.fitted span {\n",
       "  /* fitted */\n",
       "  background: var(--sklearn-color-fitted-level-0);\n",
       "  border: var(--sklearn-color-fitted-level-3);\n",
       "}\n",
       "\n",
       ".sk-estimator-doc-link:hover span {\n",
       "  display: block;\n",
       "}\n",
       "\n",
       "/* \"?\"-specific style due to the `<a>` HTML tag */\n",
       "\n",
       "#sk-container-id-1 a.estimator_doc_link {\n",
       "  float: right;\n",
       "  font-size: 1rem;\n",
       "  line-height: 1em;\n",
       "  font-family: monospace;\n",
       "  background-color: var(--sklearn-color-background);\n",
       "  border-radius: 1rem;\n",
       "  height: 1rem;\n",
       "  width: 1rem;\n",
       "  text-decoration: none;\n",
       "  /* unfitted */\n",
       "  color: var(--sklearn-color-unfitted-level-1);\n",
       "  border: var(--sklearn-color-unfitted-level-1) 1pt solid;\n",
       "}\n",
       "\n",
       "#sk-container-id-1 a.estimator_doc_link.fitted {\n",
       "  /* fitted */\n",
       "  border: var(--sklearn-color-fitted-level-1) 1pt solid;\n",
       "  color: var(--sklearn-color-fitted-level-1);\n",
       "}\n",
       "\n",
       "/* On hover */\n",
       "#sk-container-id-1 a.estimator_doc_link:hover {\n",
       "  /* unfitted */\n",
       "  background-color: var(--sklearn-color-unfitted-level-3);\n",
       "  color: var(--sklearn-color-background);\n",
       "  text-decoration: none;\n",
       "}\n",
       "\n",
       "#sk-container-id-1 a.estimator_doc_link.fitted:hover {\n",
       "  /* fitted */\n",
       "  background-color: var(--sklearn-color-fitted-level-3);\n",
       "}\n",
       "</style><div id=\"sk-container-id-1\" class=\"sk-top-container\"><div class=\"sk-text-repr-fallback\"><pre>LogisticRegression(max_iter=1000)</pre><b>In a Jupyter environment, please rerun this cell to show the HTML representation or trust the notebook. <br />On GitHub, the HTML representation is unable to render, please try loading this page with nbviewer.org.</b></div><div class=\"sk-container\" hidden><div class=\"sk-item\"><div class=\"sk-estimator fitted sk-toggleable\"><input class=\"sk-toggleable__control sk-hidden--visually\" id=\"sk-estimator-id-1\" type=\"checkbox\" checked><label for=\"sk-estimator-id-1\" class=\"sk-toggleable__label fitted sk-toggleable__label-arrow\"><div><div>LogisticRegression</div></div><div><a class=\"sk-estimator-doc-link fitted\" rel=\"noreferrer\" target=\"_blank\" href=\"https://scikit-learn.org/1.6/modules/generated/sklearn.linear_model.LogisticRegression.html\">?<span>Documentation for LogisticRegression</span></a><span class=\"sk-estimator-doc-link fitted\">i<span>Fitted</span></span></div></label><div class=\"sk-toggleable__content fitted\"><pre>LogisticRegression(max_iter=1000)</pre></div> </div></div></div></div>"
      ],
      "text/plain": [
       "LogisticRegression(max_iter=1000)"
      ]
     },
     "execution_count": 35,
     "metadata": {},
     "output_type": "execute_result"
    }
   ],
   "source": [
    "model.fit(X_train, y_train)"
   ]
  },
  {
   "cell_type": "markdown",
   "id": "b6008dd7-4fc5-4077-bfd2-3c674453dddc",
   "metadata": {},
   "source": [
    "# Predictions"
   ]
  },
  {
   "cell_type": "code",
   "execution_count": 36,
   "id": "4c508a14-c2c0-45a2-87a6-1b31162dc3c8",
   "metadata": {},
   "outputs": [],
   "source": [
    "y_pred = model.predict(X_test)"
   ]
  },
  {
   "cell_type": "markdown",
   "id": "6d6ba766-d6a1-471a-bb12-5eb01caa1d19",
   "metadata": {},
   "source": [
    "# Evaluate Model"
   ]
  },
  {
   "cell_type": "code",
   "execution_count": 37,
   "id": "9d99ba77-4124-4330-8d20-1d7ea4e6180f",
   "metadata": {},
   "outputs": [
    {
     "name": "stdout",
     "output_type": "stream",
     "text": [
      "Accuracy: 0.6089054726368159\n"
     ]
    }
   ],
   "source": [
    "print(\"Accuracy:\", accuracy_score(y_test, y_pred))"
   ]
  },
  {
   "cell_type": "code",
   "execution_count": 38,
   "id": "9668edf0-1776-43a4-ad15-27b96d8938fd",
   "metadata": {},
   "outputs": [
    {
     "name": "stdout",
     "output_type": "stream",
     "text": [
      "              precision    recall  f1-score   support\n",
      "\n",
      "           0       0.65      0.79      0.71     12262\n",
      "           1       0.50      0.32      0.39      7838\n",
      "\n",
      "    accuracy                           0.61     20100\n",
      "   macro avg       0.57      0.56      0.55     20100\n",
      "weighted avg       0.59      0.61      0.59     20100\n",
      "\n"
     ]
    }
   ],
   "source": [
    "print(classification_report(y_test, y_pred))"
   ]
  },
  {
   "cell_type": "markdown",
   "id": "47bb1bed-43d8-435a-8a3d-37c29f151c87",
   "metadata": {},
   "source": [
    "# Interpret Results"
   ]
  },
  {
   "cell_type": "markdown",
   "id": "9967d58f-07f6-4b33-b391-1938c613a8bb",
   "metadata": {},
   "source": [
    "## Accuracy Score\n",
    "- Measures how well the model predicts crime types."
   ]
  },
  {
   "cell_type": "markdown",
   "id": "cc842f33-2d26-4ee8-8422-bb9df2e81d77",
   "metadata": {},
   "source": [
    "Model's **accuracy** is **60.89%**, meaning it correctly predicts the crime type **about 61 times out of 100** on unseen data.  \n",
    "\n",
    "### **Interpretation:**  \n",
    "- This is **better than random guessing**, but there is **room for improvement** 📉.  \n",
    "- If crime types are **unevenly distributed**, accuracy alone **may not be reliable** (e.g., if one crime type dominates).  "
   ]
  },
  {
   "cell_type": "markdown",
   "id": "59691ab4-9fd5-4040-a6a8-05275cb4da41",
   "metadata": {},
   "source": [
    "## Classification Report"
   ]
  },
  {
   "cell_type": "markdown",
   "id": "5e30b8aa-7cae-44ee-965d-2433469d8778",
   "metadata": {},
   "source": [
    "- Shows precision, recall, and F1-score for each crime type."
   ]
  },
  {
   "cell_type": "markdown",
   "id": "02271d15-05f8-42e8-910c-5bd95bd821c5",
   "metadata": {},
   "source": [
    "### **Interpretation of Classification Report** 📊  \n",
    "\n",
    "1. **Class 0 (Majority Class)**  \n",
    "   - **Precision (65%)**: When the model predicts class 0, it's correct **65%** of the time.  \n",
    "   - **Recall (79%)**: Out of all actual class 0 cases, the model correctly identifies **79%** of them.  \n",
    "   - **F1-score (71%)**: A balance between precision & recall, indicating overall performance.  \n",
    "\n",
    "2. **Class 1 (Minority Class)**  \n",
    "   - **Precision (50%)**: When predicting class 1, it's correct **only 50%** of the time.  \n",
    "   - **Recall (32%)**: The model captures **only 32%** of actual class 1 cases (high **false negatives**).  \n",
    "   - **F1-score (39%)**: Poor performance due to low recall.  \n",
    "\n",
    "3. **Overall Performance**  \n",
    "   - **Accuracy (61%)**: The model is correct **61%** of the time.  \n",
    "   - **Macro Avg (F1 = 55%)**: Balances both classes but suffers due to class imbalance.  \n",
    "   - **Weighted Avg (F1 = 59%)**: Weighted by class frequencies, reflecting overall model performance.  \n",
    "\n",
    "### **Key Takeaways**\n",
    "✔️ The model does **well on class 0** but struggles with **class 1** (low recall).  \n",
    "⚠️ Possible class **imbalance issue**—consider **resampling (oversampling/undersampling)** or using **class weights**.  "
   ]
  },
  {
   "cell_type": "markdown",
   "id": "3df9645a-4c44-4b39-bade-4e6457276590",
   "metadata": {},
   "source": [
    "## Feature Importance "
   ]
  },
  {
   "cell_type": "code",
   "execution_count": 39,
   "id": "9668023a-0726-46bf-bd4a-402bdb0b0e10",
   "metadata": {},
   "outputs": [],
   "source": [
    "# Get feature importance from model coefficients\n",
    "feature_importance = pd.Series(model.coef_[0], index=X.columns)"
   ]
  },
  {
   "cell_type": "code",
   "execution_count": 40,
   "id": "6b2a21e0-2645-4f52-8f0e-fa66862fb79d",
   "metadata": {},
   "outputs": [
    {
     "data": {
      "image/png": "[encoded data removed]",
      "text/plain": [
       "<Figure size 640x480 with 1 Axes>"
      ]
     },
     "metadata": {},
     "output_type": "display_data"
    }
   ],
   "source": [
    "# Sort and plot\n",
    "feature_importance.sort_values().plot(kind=\"barh\", title=\"Feature Importance\")\n",
    "plt.xlabel(\"Coefficient Value\")\n",
    "plt.show()"
   ]
  },
  {
   "cell_type": "markdown",
   "id": "2363c73d-4ae6-4df2-bee0-fdc254e86fb1",
   "metadata": {},
   "source": [
    "# Save model"
   ]
  },
  {
   "cell_type": "code",
   "execution_count": 42,
   "id": "da9836f0-551f-4d60-9d20-b2e446a923f7",
   "metadata": {},
   "outputs": [],
   "source": [
    "# Save logistic regression model\n",
    "models_dir = 'path/to/models/directory/' # Change to your models directory\n",
    "model_name = 'logreg_model.pkl' # Change to your model name\n",
    "model_path = models_dir + model_name \n",
    "dump(model, model_path)"
   ]
  },
  {
   "cell_type": "markdown",
   "id": "a08368df-3b1d-4b3f-89b5-3523a4f42258",
   "metadata": {},
   "source": [
    "# Next Steps 🚀\n",
    "- ## Try different models\n",
    "### -- Decision Trees\n",
    "### -- RandomForest\n",
    "### -- XGBoost\n",
    "- ## Tune hyperparameters using GridSearchCV"
   ]
  }
 ],
 "metadata": {
  "kernelspec": {
   "display_name": "Python 3 (ipykernel)",
   "language": "python",
   "name": "python3"
  },
  "language_info": {
   "codemirror_mode": {
    "name": "ipython",
    "version": 3
   },
   "file_extension": ".py",
   "mimetype": "text/x-python",
   "name": "python",
   "nbconvert_exporter": "python",
   "pygments_lexer": "ipython3",
   "version": "3.12.9"
  }
 },
 "nbformat": 4,
 "nbformat_minor": 5
}
